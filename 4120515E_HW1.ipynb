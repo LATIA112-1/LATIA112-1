{
 "cells": [
  {
   "cell_type": "code",
   "execution_count": 4,
   "metadata": {},
   "outputs": [
    {
     "data": {
      "text/plain": [
       "0"
      ]
     },
     "execution_count": 4,
     "metadata": {},
     "output_type": "execute_result"
    }
   ],
   "source": [
    "import pandas as pd"
    "import random"
    "import matplotlib.pyplot as plt"

    "plt.rc('font', family='Microsoft JhengHei') # 讓 plt 可以顯示中文"

    "df = pd.read_csv('教育部閩南語語言能力認證-各職業報名及通過人數.csv', encoding='utf-8') # 讀取資料集檔案"
    "df.isnull().sum().sum() # 檢查空值數量"
