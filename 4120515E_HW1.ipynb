{
 "cells": [
  {
   "cell_type": "code",
   "execution_count": 4,
   "metadata": {},
   "outputs": [
    {
     "data": {
      "text/plain": [
       "0"
      ]
     },
     "execution_count": 4,
     "metadata": {},
     "output_type": "execute_result"
    }
   ],
   "source": [
    "import pandas as pd\n",
    "import random\n",
    "import matplotlib.pyplot as plt\n",
    "\n",
    "plt.rc('font', family='Microsoft JhengHei') # 讓 plt 可以顯示中文\n",
    "\n",
    "df = pd.read_csv('109-111學年度原住民重點學校一覽表.csv', encoding='utf-8') # 讀取資料集檔案\n",
    "df.isnull().sum().sum() # 檢查空值數量"
   ]
  },
  {
   "cell_type": "code",
   "execution_count": 5,
   "metadata": {},
   "outputs": [
    {
     "data": {
      "text/html": [
       "<div>\n",
       "<style scoped>\n",
       "    .dataframe tbody tr th:only-of-type {\n",
       "        vertical-align: middle;\n",
       "    }\n",
       "\n",
       "    .dataframe tbody tr th {\n",
       "        vertical-align: top;\n",
       "    }\n",
       "\n",
       "    .dataframe thead th {\n",
       "        text-align: right;\n",
       "    }\n",
       "</style>\n",
       "<table border=\"1\" class=\"dataframe\">\n",
       "  <thead>\n",
       "    <tr style=\"text-align: right;\">\n",
       "      <th></th>\n",
       "      <th>轄屬</th>\n",
       "      <th>行政區</th>\n",
       "      <th>學校代碼</th>\n",
       "      <th>設立別</th>\n",
       "      <th>學制</th>\n",
       "      <th>縣市</th>\n",
       "      <th>學校名稱</th>\n",
       "    </tr>\n",
       "  </thead>\n",
       "  <tbody>\n",
       "    <tr>\n",
       "      <th>0</th>\n",
       "      <td>縣市轄</td>\n",
       "      <td>汐止區</td>\n",
       "      <td>11312</td>\n",
       "      <td>私立</td>\n",
       "      <td>高中職</td>\n",
       "      <td>新北市</td>\n",
       "      <td>私立崇義高中</td>\n",
       "    </tr>\n",
       "    <tr>\n",
       "      <th>1</th>\n",
       "      <td>縣市轄</td>\n",
       "      <td>樹林區</td>\n",
       "      <td>11405</td>\n",
       "      <td>私立</td>\n",
       "      <td>高中職</td>\n",
       "      <td>新北市</td>\n",
       "      <td>私立樹人家商</td>\n",
       "    </tr>\n",
       "    <tr>\n",
       "      <th>2</th>\n",
       "      <td>縣市轄</td>\n",
       "      <td>新店區</td>\n",
       "      <td>11426</td>\n",
       "      <td>私立</td>\n",
       "      <td>高中職</td>\n",
       "      <td>新北市</td>\n",
       "      <td>私立能仁家商</td>\n",
       "    </tr>\n",
       "    <tr>\n",
       "      <th>3</th>\n",
       "      <td>縣市轄</td>\n",
       "      <td>新店區</td>\n",
       "      <td>11431</td>\n",
       "      <td>私立</td>\n",
       "      <td>高中職</td>\n",
       "      <td>新北市</td>\n",
       "      <td>私立莊敬工家</td>\n",
       "    </tr>\n",
       "    <tr>\n",
       "      <th>4</th>\n",
       "      <td>縣市轄</td>\n",
       "      <td>樹林區</td>\n",
       "      <td>14322</td>\n",
       "      <td>直轄市立</td>\n",
       "      <td>高中職</td>\n",
       "      <td>新北市</td>\n",
       "      <td>市立樹林高中</td>\n",
       "    </tr>\n",
       "    <tr>\n",
       "      <th>...</th>\n",
       "      <td>...</td>\n",
       "      <td>...</td>\n",
       "      <td>...</td>\n",
       "      <td>...</td>\n",
       "      <td>...</td>\n",
       "      <td>...</td>\n",
       "      <td>...</td>\n",
       "    </tr>\n",
       "    <tr>\n",
       "      <th>426</th>\n",
       "      <td>縣市轄</td>\n",
       "      <td>光復鄉</td>\n",
       "      <td>154708</td>\n",
       "      <td>縣立</td>\n",
       "      <td>國小</td>\n",
       "      <td>花蓮縣</td>\n",
       "      <td>縣立大興國小</td>\n",
       "    </tr>\n",
       "    <tr>\n",
       "      <th>427</th>\n",
       "      <td>縣市轄</td>\n",
       "      <td>秀林鄉</td>\n",
       "      <td>154710</td>\n",
       "      <td>縣立</td>\n",
       "      <td>國小</td>\n",
       "      <td>花蓮縣</td>\n",
       "      <td>縣立西寶國小</td>\n",
       "    </tr>\n",
       "    <tr>\n",
       "      <th>428</th>\n",
       "      <td>縣市轄</td>\n",
       "      <td>中正區</td>\n",
       "      <td>173314</td>\n",
       "      <td>市立</td>\n",
       "      <td>高中職</td>\n",
       "      <td>基隆市</td>\n",
       "      <td>市立八斗高中</td>\n",
       "    </tr>\n",
       "    <tr>\n",
       "      <th>429</th>\n",
       "      <td>縣市轄</td>\n",
       "      <td>中正區</td>\n",
       "      <td>173605</td>\n",
       "      <td>市立</td>\n",
       "      <td>國小</td>\n",
       "      <td>基隆市</td>\n",
       "      <td>市立八斗國小</td>\n",
       "    </tr>\n",
       "    <tr>\n",
       "      <th>430</th>\n",
       "      <td>署轄</td>\n",
       "      <td>東區</td>\n",
       "      <td>181305</td>\n",
       "      <td>私立</td>\n",
       "      <td>高中職</td>\n",
       "      <td>新竹市</td>\n",
       "      <td>私立光復高中</td>\n",
       "    </tr>\n",
       "  </tbody>\n",
       "</table>\n",
       "<p>431 rows × 7 columns</p>\n",
       "</div>"
      ],
      "text/plain": [
       "      轄屬  行政區    學校代碼   設立別   學制   縣市    學校名稱\n",
       "0    縣市轄  汐止區   11312    私立  高中職  新北市  私立崇義高中\n",
       "1    縣市轄  樹林區   11405    私立  高中職  新北市  私立樹人家商\n",
       "2    縣市轄  新店區   11426    私立  高中職  新北市  私立能仁家商\n",
       "3    縣市轄  新店區   11431    私立  高中職  新北市  私立莊敬工家\n",
       "4    縣市轄  樹林區   14322  直轄市立  高中職  新北市  市立樹林高中\n",
       "..   ...  ...     ...   ...  ...  ...     ...\n",
       "426  縣市轄  光復鄉  154708    縣立   國小  花蓮縣  縣立大興國小\n",
       "427  縣市轄  秀林鄉  154710    縣立   國小  花蓮縣  縣立西寶國小\n",
       "428  縣市轄  中正區  173314    市立  高中職  基隆市  市立八斗高中\n",
       "429  縣市轄  中正區  173605    市立   國小  基隆市  市立八斗國小\n",
       "430   署轄   東區  181305    私立  高中職  新竹市  私立光復高中\n",
       "\n",
       "[431 rows x 7 columns]"
      ]
     },
     "execution_count": 5,
     "metadata": {},
     "output_type": "execute_result"
    }
   ],
   "source": [
    "df"
   ]
  },
  {
   "cell_type": "markdown",
   "metadata": {},
   "source": [
    "# 1. 本資料集總共收集了多少學校 (依國立私立區別)\n",
    "(設立別)"
   ]
  },
  {
   "cell_type": "code",
   "execution_count": 6,
   "metadata": {},
   "outputs": [
    {
     "name": "stdout",
     "output_type": "stream",
     "text": [
      "本資料集共收集了 431 所學校，其中公立：407 所；私立：24 所。\n"
     ]
    }
   ],
   "source": [
    "type_list = []\n",
    "\n",
    "for i in df['設立別']:\n",
    "    if i=='私立':\n",
    "        type_list.append('私立')\n",
    "    else:\n",
    "        type_list.append('國立')\n",
    "\n",
    "df['公私立'] = type_list # 將 Dataframe 新增「公私立」column\n",
    "df1 = df.drop_duplicates('學校代碼')\n",
    "count = df1['公私立'].value_counts()\n",
    "\n",
    "print(f\"本資料集共收集了 {len(df1)} 所學校，其中公立：{count['國立']} 所；私立：{count['私立']} 所。\")"
   ]
  },
  {
   "cell_type": "markdown",
   "metadata": {},
   "source": [
    "# 2. 各縣市學校公私立比\n",
    "(縣市)(學制)"
   ]
  },
  {
   "cell_type": "code",
   "execution_count": 19,
   "metadata": {},
   "outputs": [
    {
     "data": {
      "text/html": [
       "<div>\n",
       "<style scoped>\n",
       "    .dataframe tbody tr th:only-of-type {\n",
       "        vertical-align: middle;\n",
       "    }\n",
       "\n",
       "    .dataframe tbody tr th {\n",
       "        vertical-align: top;\n",
       "    }\n",
       "\n",
       "    .dataframe thead th {\n",
       "        text-align: right;\n",
       "    }\n",
       "</style>\n",
       "<table border=\"1\" class=\"dataframe\">\n",
       "  <thead>\n",
       "    <tr style=\"text-align: right;\">\n",
       "      <th></th>\n",
       "      <th>新北市</th>\n",
       "      <th>宜蘭縣</th>\n",
       "      <th>桃園市</th>\n",
       "      <th>新竹縣</th>\n",
       "      <th>苗栗縣</th>\n",
       "      <th>臺中市</th>\n",
       "      <th>南投縣</th>\n",
       "      <th>嘉義縣</th>\n",
       "      <th>高雄市</th>\n",
       "      <th>屏東縣</th>\n",
       "      <th>臺東縣</th>\n",
       "      <th>花蓮縣</th>\n",
       "      <th>基隆市</th>\n",
       "      <th>新竹市</th>\n",
       "    </tr>\n",
       "  </thead>\n",
       "  <tbody>\n",
       "    <tr>\n",
       "      <th>國立</th>\n",
       "      <td>6</td>\n",
       "      <td>14</td>\n",
       "      <td>36</td>\n",
       "      <td>21</td>\n",
       "      <td>12</td>\n",
       "      <td>9</td>\n",
       "      <td>35</td>\n",
       "      <td>8</td>\n",
       "      <td>14</td>\n",
       "      <td>46</td>\n",
       "      <td>99</td>\n",
       "      <td>105</td>\n",
       "      <td>2</td>\n",
       "      <td>0</td>\n",
       "    </tr>\n",
       "    <tr>\n",
       "      <th>私立</th>\n",
       "      <td>4</td>\n",
       "      <td>0</td>\n",
       "      <td>8</td>\n",
       "      <td>1</td>\n",
       "      <td>0</td>\n",
       "      <td>1</td>\n",
       "      <td>1</td>\n",
       "      <td>0</td>\n",
       "      <td>2</td>\n",
       "      <td>2</td>\n",
       "      <td>1</td>\n",
       "      <td>3</td>\n",
       "      <td>0</td>\n",
       "      <td>1</td>\n",
       "    </tr>\n",
       "    <tr>\n",
       "      <th>公私立比</th>\n",
       "      <td>60.0%</td>\n",
       "      <td>100.0%</td>\n",
       "      <td>81.81%</td>\n",
       "      <td>95.45%</td>\n",
       "      <td>100.0%</td>\n",
       "      <td>90.0%</td>\n",
       "      <td>97.22%</td>\n",
       "      <td>100.0%</td>\n",
       "      <td>87.5%</td>\n",
       "      <td>95.83%</td>\n",
       "      <td>99.0%</td>\n",
       "      <td>97.22%</td>\n",
       "      <td>100.0%</td>\n",
       "      <td>0.0%</td>\n",
       "    </tr>\n",
       "  </tbody>\n",
       "</table>\n",
       "</div>"
      ],
      "text/plain": [
       "        新北市     宜蘭縣     桃園市     新竹縣     苗栗縣    臺中市     南投縣     嘉義縣    高雄市  \\\n",
       "國立        6      14      36      21      12      9      35       8     14   \n",
       "私立        4       0       8       1       0      1       1       0      2   \n",
       "公私立比  60.0%  100.0%  81.81%  95.45%  100.0%  90.0%  97.22%  100.0%  87.5%   \n",
       "\n",
       "         屏東縣    臺東縣     花蓮縣     基隆市   新竹市  \n",
       "國立        46     99     105       2     0  \n",
       "私立         2      1       3       0     1  \n",
       "公私立比  95.83%  99.0%  97.22%  100.0%  0.0%  "
      ]
     },
     "execution_count": 19,
     "metadata": {},
     "output_type": "execute_result"
    }
   ],
   "source": [
    "count_list = {}\n",
    "\n",
    "for index, row in df.iterrows():\n",
    "    if row['縣市'] not in count_list:\n",
    "        count_list[row['縣市']] = {'國立':0, '私立': 0}\n",
    "    count_list[row['縣市']][row['公私立']] += 1\n",
    "\n",
    "for loc in count_list:\n",
    "    count_list[loc]['公私立比'] = str(float(count_list[loc]['國立'])/float(count_list[loc]['國立']+count_list[loc]['私立'])*100)[:5] +'%'\n",
    "\n",
    "df1 = pd.DataFrame(count_list)\n",
    "df1\n"
   ]
  },
  {
   "cell_type": "markdown",
   "metadata": {},
   "source": [
    "# 3. 全台國小國中高中職原住民重點學校各有多少\n",
    "(學制)"
   ]
  },
  {
   "cell_type": "code",
   "execution_count": 23,
   "metadata": {},
   "outputs": [
    {
     "name": "stdout",
     "output_type": "stream",
     "text": [
      "本資料集中國小有： 303 所學校，國中有：76 所學校；高中職有：52 所學校。\n"
     ]
    }
   ],
   "source": [
    "count_list = {}\n",
    "for index, row in df.iterrows():\n",
    "    if row['學制'] not in count_list:\n",
    "        count_list[row['學制']] = 0\n",
    "    count_list[row['學制']] += 1\n",
    "\n",
    "count_list\n",
    "print(f\"本資料集中國小有： {count_list['國小']} 所學校，國中有：{count_list['國中']} 所學校；高中職有：{count_list['高中職']} 所學校。\")"
   ]
  },
  {
   "cell_type": "markdown",
   "metadata": {},
   "source": [
    "# 4. 原住民重點學校最多與最少的地區\n",
    "(學制)(縣市)"
   ]
  },
  {
   "cell_type": "code",
   "execution_count": 26,
   "metadata": {},
   "outputs": [
    {
     "name": "stdout",
     "output_type": "stream",
     "text": [
      "最多原住民重點學校的地區是東部，共 208 所學校；\n",
      "最少原住民重點學校的地區是中部，共 58 所學校。\n"
     ]
    }
   ],
   "source": [
    "count_list = {'北部':0, '中部':0, '南部':0, '東部':0}\n",
    "city_to_area = {\n",
    "    '臺北市':'北部', \n",
    "    '新北市':'北部', \n",
    "    '基隆市':'北部', \n",
    "    '新竹市':'北部', \n",
    "    '桃園市':'北部', \n",
    "    '新竹縣':'北部', \n",
    "    '宜蘭縣':'北部', \n",
    "    '臺中市':'中部', \n",
    "    '苗栗縣':'中部', \n",
    "    '彰化縣':'中部', \n",
    "    '南投縣':'中部', \n",
    "    '雲林縣':'中部', \n",
    "    '高雄市':'南部', \n",
    "    '臺南市':'南部', \n",
    "    '嘉義市':'南部', \n",
    "    '嘉義縣':'南部', \n",
    "    '屏東縣':'南部', \n",
    "    '澎湖縣':'南部', \n",
    "    '花蓮縣':'東部', \n",
    "    '臺東縣':'東部', \n",
    "}\n",
    "for index, row in df.iterrows():\n",
    "    count_list[city_to_area[row['縣市']]] += 1\n",
    "\n",
    "max_value = max(count_list.values())\n",
    "min_value = min(count_list.values())\n",
    "max_key = next(key for key, value in count_list.items() if value == max_value)\n",
    "min_key = next(key for key, value in count_list.items() if value == min_value)\n",
    "\n",
    "print(f\"最多原住民重點學校的地區是{max_key}，共 {max_value} 所學校；\")\n",
    "print(f\"最少原住民重點學校的地區是{min_key}，共 {min_value} 所學校。\")"
   ]
  },
  {
   "cell_type": "markdown",
   "metadata": {},
   "source": [
    "# 5. 最多最少學校的縣市\n",
    "(學制)(縣市)"
   ]
  },
  {
   "cell_type": "code",
   "execution_count": null,
   "metadata": {},
   "outputs": [],
   "source": [
    "count_list = {}\n",
    "\n",
    "for index, row in df.iterrows():\n",
    "    if row['縣市'] not in count_list:\n",
    "        count_list[row['縣市']] = 0\n",
    "    count_list[row['縣市']] += 1\n",
    "\n",
    "max_value = max(count_list.values())\n",
    "min_value = min(count_list.values())\n",
    "max_key = next(key for key, value in count_list.items() if value == max_value)\n",
    "min_key = next(key for key, value in count_list.items() if value == min_value)\n",
    "\n",
    "print(f\"最多原住民重點學校的縣市是{max_key}，共 {max_value} 所學校；\")\n",
    "print(f\"最少原住民重點學校的縣市是{min_key}，共 {min_value} 所學校。\")"
   ]
  },
  {
   "cell_type": "markdown",
   "metadata": {},
   "source": [
    "# 6. 國立最多與最少學校的縣市\n",
    "(設立別)(縣市)"
   ]
  },
  {
   "cell_type": "code",
   "execution_count": 28,
   "metadata": {},
   "outputs": [
    {
     "name": "stdout",
     "output_type": "stream",
     "text": [
      "最多國立學校的縣市是花蓮縣，共 105 所學校；\n",
      "最少國立學校的縣市是新竹市，共 0 所學校。\n"
     ]
    }
   ],
   "source": [
    "count_list = {}\n",
    "\n",
    "for index, row in df.iterrows():\n",
    "    if row['縣市'] not in count_list:\n",
    "        count_list[row['縣市']] = 0\n",
    "    if row['公私立'] == '國立':\n",
    "        count_list[row['縣市']] += 1\n",
    "\n",
    "max_value = max(count_list.values())\n",
    "min_value = min(count_list.values())\n",
    "max_key = next(key for key, value in count_list.items() if value == max_value)\n",
    "min_key = next(key for key, value in count_list.items() if value == min_value)\n",
    "\n",
    "print(f\"最多國立學校的縣市是{max_key}，共 {max_value} 所學校；\")\n",
    "print(f\"最少國立學校的縣市是{min_key}，共 {min_value} 所學校。\")"
   ]
  },
  {
   "cell_type": "markdown",
   "metadata": {},
   "source": [
    "# 7. 私立最多與最少學校的縣市\n",
    "(設立別)(縣市)"
   ]
  },
  {
   "cell_type": "code",
   "execution_count": 29,
   "metadata": {},
   "outputs": [
    {
     "name": "stdout",
     "output_type": "stream",
     "text": [
      "最多私立學校的縣市是桃園市，共 8 所學校；\n",
      "最少私立學校的縣市是宜蘭縣，共 0 所學校。\n"
     ]
    }
   ],
   "source": [
    "count_list = {}\n",
    "\n",
    "for index, row in df.iterrows():\n",
    "    if row['縣市'] not in count_list:\n",
    "        count_list[row['縣市']] = 0\n",
    "    if row['公私立'] == '私立':\n",
    "        count_list[row['縣市']] += 1\n",
    "\n",
    "max_value = max(count_list.values())\n",
    "min_value = min(count_list.values())\n",
    "max_key = next(key for key, value in count_list.items() if value == max_value)\n",
    "min_key = next(key for key, value in count_list.items() if value == min_value)\n",
    "\n",
    "print(f\"最多私立學校的縣市是{max_key}，共 {max_value} 所學校；\")\n",
    "print(f\"最少私立學校的縣市是{min_key}，共 {min_value} 所學校。\")"
   ]
  },
  {
   "cell_type": "markdown",
   "metadata": {},
   "source": [
    "# 8. 重點學校最多最少國中的縣市\n",
    "(學制)(縣市)"
   ]
  },
  {
   "cell_type": "code",
   "execution_count": 31,
   "metadata": {},
   "outputs": [
    {
     "name": "stdout",
     "output_type": "stream",
     "text": [
      "最多國中學校的縣市是花蓮縣，共 19 所學校；\n",
      "最少國中學校的縣市是基隆市，共 0 所學校。\n"
     ]
    }
   ],
   "source": [
    "count_list = {}\n",
    "\n",
    "for index, row in df.iterrows():\n",
    "    if row['縣市'] not in count_list:\n",
    "        count_list[row['縣市']] = 0\n",
    "    if row['學制'] == '國中':\n",
    "        count_list[row['縣市']] += 1\n",
    "\n",
    "max_value = max(count_list.values())\n",
    "min_value = min(count_list.values())\n",
    "max_key = next(key for key, value in count_list.items() if value == max_value)\n",
    "min_key = next(key for key, value in count_list.items() if value == min_value)\n",
    "\n",
    "print(f\"最多國中學校的縣市是{max_key}，共 {max_value} 所學校；\")\n",
    "print(f\"最少國中學校的縣市是{min_key}，共 {min_value} 所學校。\")"
   ]
  },
  {
   "cell_type": "markdown",
   "metadata": {},
   "source": [
    "# 9. 重點學校最多最少國小的縣市\n",
    "(學制)(縣市)"
   ]
  },
  {
   "cell_type": "code",
   "execution_count": 32,
   "metadata": {},
   "outputs": [
    {
     "name": "stdout",
     "output_type": "stream",
     "text": [
      "最多國中學校的縣市是花蓮縣，共 81 所學校；\n",
      "最少國中學校的縣市是新竹市，共 0 所學校。\n"
     ]
    }
   ],
   "source": [
    "count_list = {}\n",
    "\n",
    "for index, row in df.iterrows():\n",
    "    if row['縣市'] not in count_list:\n",
    "        count_list[row['縣市']] = 0\n",
    "    if row['學制'] == '國小':\n",
    "        count_list[row['縣市']] += 1\n",
    "\n",
    "max_value = max(count_list.values())\n",
    "min_value = min(count_list.values())\n",
    "max_key = next(key for key, value in count_list.items() if value == max_value)\n",
    "min_key = next(key for key, value in count_list.items() if value == min_value)\n",
    "\n",
    "print(f\"最多國中學校的縣市是{max_key}，共 {max_value} 所學校；\")\n",
    "print(f\"最少國中學校的縣市是{min_key}，共 {min_value} 所學校。\")"
   ]
  },
  {
   "cell_type": "markdown",
   "metadata": {},
   "source": [
    "# 10. 北中南東各地區學校數比例\n",
    "(設立別)(縣市)"
   ]
  },
  {
   "cell_type": "code",
   "execution_count": 33,
   "metadata": {},
   "outputs": [
    {
     "data": {
      "text/html": [
       "<div>\n",
       "<style scoped>\n",
       "    .dataframe tbody tr th:only-of-type {\n",
       "        vertical-align: middle;\n",
       "    }\n",
       "\n",
       "    .dataframe tbody tr th {\n",
       "        vertical-align: top;\n",
       "    }\n",
       "\n",
       "    .dataframe thead th {\n",
       "        text-align: right;\n",
       "    }\n",
       "</style>\n",
       "<table border=\"1\" class=\"dataframe\">\n",
       "  <thead>\n",
       "    <tr style=\"text-align: right;\">\n",
       "      <th></th>\n",
       "      <th>北部</th>\n",
       "      <th>中部</th>\n",
       "      <th>南部</th>\n",
       "      <th>東部</th>\n",
       "    </tr>\n",
       "  </thead>\n",
       "  <tbody>\n",
       "    <tr>\n",
       "      <th>國立</th>\n",
       "      <td>79</td>\n",
       "      <td>56</td>\n",
       "      <td>68</td>\n",
       "      <td>204</td>\n",
       "    </tr>\n",
       "    <tr>\n",
       "      <th>私立</th>\n",
       "      <td>14</td>\n",
       "      <td>2</td>\n",
       "      <td>4</td>\n",
       "      <td>4</td>\n",
       "    </tr>\n",
       "    <tr>\n",
       "      <th>公私立比</th>\n",
       "      <td>84.94%</td>\n",
       "      <td>96.55%</td>\n",
       "      <td>94.44%</td>\n",
       "      <td>98.07%</td>\n",
       "    </tr>\n",
       "  </tbody>\n",
       "</table>\n",
       "</div>"
      ],
      "text/plain": [
       "          北部      中部      南部      東部\n",
       "國立        79      56      68     204\n",
       "私立        14       2       4       4\n",
       "公私立比  84.94%  96.55%  94.44%  98.07%"
      ]
     },
     "execution_count": 33,
     "metadata": {},
     "output_type": "execute_result"
    }
   ],
   "source": [
    "count_list = {'北部':{'國立':0, '私立': 0}, '中部':{'國立':0, '私立': 0}, '南部':{'國立':0, '私立': 0}, '東部':{'國立':0, '私立': 0}}\n",
    "city_to_area = {\n",
    "    '臺北市':'北部', \n",
    "    '新北市':'北部', \n",
    "    '基隆市':'北部', \n",
    "    '新竹市':'北部', \n",
    "    '桃園市':'北部', \n",
    "    '新竹縣':'北部', \n",
    "    '宜蘭縣':'北部', \n",
    "    '臺中市':'中部', \n",
    "    '苗栗縣':'中部', \n",
    "    '彰化縣':'中部', \n",
    "    '南投縣':'中部', \n",
    "    '雲林縣':'中部', \n",
    "    '高雄市':'南部', \n",
    "    '臺南市':'南部', \n",
    "    '嘉義市':'南部', \n",
    "    '嘉義縣':'南部', \n",
    "    '屏東縣':'南部', \n",
    "    '澎湖縣':'南部', \n",
    "    '花蓮縣':'東部', \n",
    "    '臺東縣':'東部', \n",
    "}\n",
    "for index, row in df.iterrows():\n",
    "    count_list[city_to_area[row['縣市']]][row['公私立']] += 1\n",
    "\n",
    "for loc in count_list:\n",
    "    count_list[loc]['公私立比'] = str(float(count_list[loc]['國立'])/float(count_list[loc]['國立']+count_list[loc]['私立'])*100)[:5] +'%'\n",
    "\n",
    "df1 = pd.DataFrame(count_list)\n",
    "df1"
   ]
  }
 ],
 "metadata": {
  "kernelspec": {
   "display_name": "Python 3",
   "language": "python",
   "name": "python3"
  },
  "language_info": {
   "codemirror_mode": {
    "name": "ipython",
    "version": 3
   },
   "file_extension": ".py",
   "mimetype": "text/x-python",
   "name": "python",
   "nbconvert_exporter": "python",
   "pygments_lexer": "ipython3",
   "version": "3.9.6"
  }
 },
 "nbformat": 4,
 "nbformat_minor": 2
}
