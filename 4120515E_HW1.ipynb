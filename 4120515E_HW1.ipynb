{
 "cells": [
  {
   "cell_type": "code",
   "execution_count": 4,
   "metadata": {},
   "outputs": [
    {
     "data": {
      "text/plain": [
       "0"
      ]
     },
     "execution_count": 4,
     "metadata": {},
     "output_type": "execute_result"
    }
   ],
   "source": [
    "import pandas as pd\n",
    "import random\n",
    "import matplotlib.pyplot as plt\n",
    "\n",
    "plt.rc('font', family='Microsoft JhengHei') # 讓 plt 可以顯示中文\n",
    "\n",
    "df = pd.read_csv('109-111學年度原住民重點學校一覽表.csv', encoding='utf-8') # 讀取資料集檔案\n",
    "df.isnull().sum().sum() # 檢查空值數量"
   ]
  },
  {
  
