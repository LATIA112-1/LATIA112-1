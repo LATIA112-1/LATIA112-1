{
 "cells": [
  {
   "cell_type": "code",
   "execution_count": 1,
   "metadata": {},
   "outputs": [
    {
     "data": {
      "text/plain": [
       "0"
      ]
     },
     "execution_count": 1,
     "metadata": {},
     "output_type": "execute_result"
    }
   ],
   "source": [
    "import pandas as pd\n",
    "import random\n",
    "import matplotlib.pyplot as plt\n",
    "\n",
    "plt.rc('font', family='Microsoft JhengHei') # 讓 plt 可以顯示中文\n",
    "\n",
    "df = pd.read_csv('教育部閩南語語言能力認證-各職業報名及通過人數.csv', encoding='utf-8') # 讀取資料集檔案\n",
    "df.isnull().sum().sum() # 檢查空值數量"
   ]
  },
  {
   "cell_type": "code",
   "execution_count": 2,
   "metadata": {},
   "outputs": [
    {
     "data": {
      "text/html": [
       "<div>\n",
       "<style scoped>\n",
       "    .dataframe tbody tr th:only-of-type {\n",
       "        vertical-align: middle;\n",
       "    }\n",
       "\n",
       "    .dataframe tbody tr th {\n",
       "        vertical-align: top;\n",
       "    }\n",
       "\n",
       "    .dataframe thead th {\n",
       "        text-align: right;\n",
       "    }\n",
       "</style>\n",
       "<table border=\"1\" class=\"dataframe\">\n",
       "  <thead>\n",
       "    <tr style=\"text-align: right;\">\n",
       "      <th></th>\n",
       "      <th>年度</th>\n",
       "      <th>職業別</th>\n",
       "      <th>卷別</th>\n",
       "      <th>報名人數</th>\n",
       "      <th>到考人數</th>\n",
       "      <th>通過人數</th>\n",
       "    </tr>\n",
       "  </thead>\n",
       "  <tbody>\n",
       "    <tr>\n",
       "      <th>0</th>\n",
       "      <td>111</td>\n",
       "      <td>工</td>\n",
       "      <td>A卷</td>\n",
       "      <td>79</td>\n",
       "      <td>63</td>\n",
       "      <td>58</td>\n",
       "    </tr>\n",
       "    <tr>\n",
       "      <th>1</th>\n",
       "      <td>111</td>\n",
       "      <td>工</td>\n",
       "      <td>B卷</td>\n",
       "      <td>144</td>\n",
       "      <td>100</td>\n",
       "      <td>53</td>\n",
       "    </tr>\n",
       "    <tr>\n",
       "      <th>2</th>\n",
       "      <td>111</td>\n",
       "      <td>工</td>\n",
       "      <td>C卷</td>\n",
       "      <td>16</td>\n",
       "      <td>15</td>\n",
       "      <td>2</td>\n",
       "    </tr>\n",
       "    <tr>\n",
       "      <th>3</th>\n",
       "      <td>111</td>\n",
       "      <td>公</td>\n",
       "      <td>A卷</td>\n",
       "      <td>190</td>\n",
       "      <td>128</td>\n",
       "      <td>126</td>\n",
       "    </tr>\n",
       "    <tr>\n",
       "      <th>4</th>\n",
       "      <td>111</td>\n",
       "      <td>公</td>\n",
       "      <td>B卷</td>\n",
       "      <td>461</td>\n",
       "      <td>298</td>\n",
       "      <td>220</td>\n",
       "    </tr>\n",
       "    <tr>\n",
       "      <th>5</th>\n",
       "      <td>111</td>\n",
       "      <td>公</td>\n",
       "      <td>C卷</td>\n",
       "      <td>46</td>\n",
       "      <td>33</td>\n",
       "      <td>14</td>\n",
       "    </tr>\n",
       "    <tr>\n",
       "      <th>6</th>\n",
       "      <td>111</td>\n",
       "      <td>自由業</td>\n",
       "      <td>A卷</td>\n",
       "      <td>115</td>\n",
       "      <td>84</td>\n",
       "      <td>79</td>\n",
       "    </tr>\n",
       "    <tr>\n",
       "      <th>7</th>\n",
       "      <td>111</td>\n",
       "      <td>自由業</td>\n",
       "      <td>B卷</td>\n",
       "      <td>369</td>\n",
       "      <td>288</td>\n",
       "      <td>204</td>\n",
       "    </tr>\n",
       "    <tr>\n",
       "      <th>8</th>\n",
       "      <td>111</td>\n",
       "      <td>自由業</td>\n",
       "      <td>C卷</td>\n",
       "      <td>86</td>\n",
       "      <td>64</td>\n",
       "      <td>15</td>\n",
       "    </tr>\n",
       "    <tr>\n",
       "      <th>9</th>\n",
       "      <td>111</td>\n",
       "      <td>服務業</td>\n",
       "      <td>A卷</td>\n",
       "      <td>215</td>\n",
       "      <td>158</td>\n",
       "      <td>149</td>\n",
       "    </tr>\n",
       "    <tr>\n",
       "      <th>10</th>\n",
       "      <td>111</td>\n",
       "      <td>服務業</td>\n",
       "      <td>B卷</td>\n",
       "      <td>635</td>\n",
       "      <td>429</td>\n",
       "      <td>272</td>\n",
       "    </tr>\n",
       "    <tr>\n",
       "      <th>11</th>\n",
       "      <td>111</td>\n",
       "      <td>服務業</td>\n",
       "      <td>C卷</td>\n",
       "      <td>84</td>\n",
       "      <td>67</td>\n",
       "      <td>12</td>\n",
       "    </tr>\n",
       "    <tr>\n",
       "      <th>12</th>\n",
       "      <td>111</td>\n",
       "      <td>待業及其他</td>\n",
       "      <td>A卷</td>\n",
       "      <td>161</td>\n",
       "      <td>107</td>\n",
       "      <td>90</td>\n",
       "    </tr>\n",
       "    <tr>\n",
       "      <th>13</th>\n",
       "      <td>111</td>\n",
       "      <td>待業及其他</td>\n",
       "      <td>B卷</td>\n",
       "      <td>659</td>\n",
       "      <td>450</td>\n",
       "      <td>308</td>\n",
       "    </tr>\n",
       "    <tr>\n",
       "      <th>14</th>\n",
       "      <td>111</td>\n",
       "      <td>待業及其他</td>\n",
       "      <td>C卷</td>\n",
       "      <td>93</td>\n",
       "      <td>68</td>\n",
       "      <td>13</td>\n",
       "    </tr>\n",
       "    <tr>\n",
       "      <th>15</th>\n",
       "      <td>111</td>\n",
       "      <td>軍</td>\n",
       "      <td>A卷</td>\n",
       "      <td>4</td>\n",
       "      <td>4</td>\n",
       "      <td>4</td>\n",
       "    </tr>\n",
       "    <tr>\n",
       "      <th>16</th>\n",
       "      <td>111</td>\n",
       "      <td>軍</td>\n",
       "      <td>B卷</td>\n",
       "      <td>24</td>\n",
       "      <td>18</td>\n",
       "      <td>12</td>\n",
       "    </tr>\n",
       "    <tr>\n",
       "      <th>17</th>\n",
       "      <td>111</td>\n",
       "      <td>軍</td>\n",
       "      <td>C卷</td>\n",
       "      <td>2</td>\n",
       "      <td>2</td>\n",
       "      <td>0</td>\n",
       "    </tr>\n",
       "    <tr>\n",
       "      <th>18</th>\n",
       "      <td>111</td>\n",
       "      <td>家管</td>\n",
       "      <td>A卷</td>\n",
       "      <td>115</td>\n",
       "      <td>84</td>\n",
       "      <td>81</td>\n",
       "    </tr>\n",
       "    <tr>\n",
       "      <th>19</th>\n",
       "      <td>111</td>\n",
       "      <td>家管</td>\n",
       "      <td>B卷</td>\n",
       "      <td>352</td>\n",
       "      <td>271</td>\n",
       "      <td>197</td>\n",
       "    </tr>\n",
       "    <tr>\n",
       "      <th>20</th>\n",
       "      <td>111</td>\n",
       "      <td>家管</td>\n",
       "      <td>C卷</td>\n",
       "      <td>42</td>\n",
       "      <td>31</td>\n",
       "      <td>12</td>\n",
       "    </tr>\n",
       "    <tr>\n",
       "      <th>21</th>\n",
       "      <td>111</td>\n",
       "      <td>商</td>\n",
       "      <td>A卷</td>\n",
       "      <td>60</td>\n",
       "      <td>46</td>\n",
       "      <td>45</td>\n",
       "    </tr>\n",
       "    <tr>\n",
       "      <th>22</th>\n",
       "      <td>111</td>\n",
       "      <td>商</td>\n",
       "      <td>B卷</td>\n",
       "      <td>155</td>\n",
       "      <td>106</td>\n",
       "      <td>65</td>\n",
       "    </tr>\n",
       "    <tr>\n",
       "      <th>23</th>\n",
       "      <td>111</td>\n",
       "      <td>商</td>\n",
       "      <td>C卷</td>\n",
       "      <td>16</td>\n",
       "      <td>13</td>\n",
       "      <td>2</td>\n",
       "    </tr>\n",
       "    <tr>\n",
       "      <th>24</th>\n",
       "      <td>111</td>\n",
       "      <td>教</td>\n",
       "      <td>A卷</td>\n",
       "      <td>556</td>\n",
       "      <td>368</td>\n",
       "      <td>367</td>\n",
       "    </tr>\n",
       "    <tr>\n",
       "      <th>25</th>\n",
       "      <td>111</td>\n",
       "      <td>教</td>\n",
       "      <td>B卷</td>\n",
       "      <td>6133</td>\n",
       "      <td>4216</td>\n",
       "      <td>3259</td>\n",
       "    </tr>\n",
       "    <tr>\n",
       "      <th>26</th>\n",
       "      <td>111</td>\n",
       "      <td>教</td>\n",
       "      <td>C卷</td>\n",
       "      <td>508</td>\n",
       "      <td>387</td>\n",
       "      <td>129</td>\n",
       "    </tr>\n",
       "    <tr>\n",
       "      <th>27</th>\n",
       "      <td>111</td>\n",
       "      <td>農</td>\n",
       "      <td>A卷</td>\n",
       "      <td>4</td>\n",
       "      <td>3</td>\n",
       "      <td>3</td>\n",
       "    </tr>\n",
       "    <tr>\n",
       "      <th>28</th>\n",
       "      <td>111</td>\n",
       "      <td>農</td>\n",
       "      <td>B卷</td>\n",
       "      <td>16</td>\n",
       "      <td>13</td>\n",
       "      <td>8</td>\n",
       "    </tr>\n",
       "    <tr>\n",
       "      <th>29</th>\n",
       "      <td>111</td>\n",
       "      <td>農</td>\n",
       "      <td>C卷</td>\n",
       "      <td>5</td>\n",
       "      <td>4</td>\n",
       "      <td>1</td>\n",
       "    </tr>\n",
       "    <tr>\n",
       "      <th>30</th>\n",
       "      <td>111</td>\n",
       "      <td>學生</td>\n",
       "      <td>A卷</td>\n",
       "      <td>6754</td>\n",
       "      <td>4783</td>\n",
       "      <td>2761</td>\n",
       "    </tr>\n",
       "    <tr>\n",
       "      <th>31</th>\n",
       "      <td>111</td>\n",
       "      <td>學生</td>\n",
       "      <td>B卷</td>\n",
       "      <td>1276</td>\n",
       "      <td>930</td>\n",
       "      <td>478</td>\n",
       "    </tr>\n",
       "    <tr>\n",
       "      <th>32</th>\n",
       "      <td>111</td>\n",
       "      <td>學生</td>\n",
       "      <td>C卷</td>\n",
       "      <td>112</td>\n",
       "      <td>85</td>\n",
       "      <td>16</td>\n",
       "    </tr>\n",
       "  </tbody>\n",
       "</table>\n",
       "</div>"
      ],
      "text/plain": [
       "     年度    職業別  卷別  報名人數  到考人數  通過人數\n",
       "0   111      工  A卷    79    63    58\n",
       "1   111      工  B卷   144   100    53\n",
       "2   111      工  C卷    16    15     2\n",
       "3   111      公  A卷   190   128   126\n",
       "4   111      公  B卷   461   298   220\n",
       "5   111      公  C卷    46    33    14\n",
       "6   111    自由業  A卷   115    84    79\n",
       "7   111    自由業  B卷   369   288   204\n",
       "8   111    自由業  C卷    86    64    15\n",
       "9   111    服務業  A卷   215   158   149\n",
       "10  111    服務業  B卷   635   429   272\n",
       "11  111    服務業  C卷    84    67    12\n",
       "12  111  待業及其他  A卷   161   107    90\n",
       "13  111  待業及其他  B卷   659   450   308\n",
       "14  111  待業及其他  C卷    93    68    13\n",
       "15  111      軍  A卷     4     4     4\n",
       "16  111      軍  B卷    24    18    12\n",
       "17  111      軍  C卷     2     2     0\n",
       "18  111     家管  A卷   115    84    81\n",
       "19  111     家管  B卷   352   271   197\n",
       "20  111     家管  C卷    42    31    12\n",
       "21  111      商  A卷    60    46    45\n",
       "22  111      商  B卷   155   106    65\n",
       "23  111      商  C卷    16    13     2\n",
       "24  111      教  A卷   556   368   367\n",
       "25  111      教  B卷  6133  4216  3259\n",
       "26  111      教  C卷   508   387   129\n",
       "27  111      農  A卷     4     3     3\n",
       "28  111      農  B卷    16    13     8\n",
       "29  111      農  C卷     5     4     1\n",
       "30  111     學生  A卷  6754  4783  2761\n",
       "31  111     學生  B卷  1276   930   478\n",
       "32  111     學生  C卷   112    85    16"
      ]
     },
     "execution_count": 2,
     "metadata": {},
     "output_type": "execute_result"
    }
   ],
   "source": [
    "df"
   ]
  },
  {
   "cell_type": "markdown",
   "metadata": {},
   "source": [
    "# 1. 本資料收集了多少職業類別\n",
    "(職業別)"
   ]
  },
  {
   "cell_type": "code",
   "execution_count": 6,
   "metadata": {},
   "outputs": [
    {
     "name": "stdout",
     "output_type": "stream",
     "text": [
      "本資料集共收集了 11 種職業類別，分別為 工、公、自由業、服務業、待業及其他、軍、家管、商、教、農、學生\n"
     ]
    }
   ],
   "source": [
    "df1 = df.drop_duplicates('職業別')\n",
    "class_type = [i for i in df1['職業別']]\n",
    "print(f\"本資料集共收集了 {len(class_type)} 種職業類別，分別為 {'、'.join(class_type)}\")"
   ]
  },
  {
   "cell_type": "markdown",
   "metadata": {},
   "source": [
    "# 2. 本資料中總共報考人數有多少人\n",
    "(報名人數)"
   ]
  },
  {
   "cell_type": "code",
   "execution_count": 11,
   "metadata": {},
   "outputs": [
    {
     "name": "stdout",
     "output_type": "stream",
     "text": [
      "本資料集總共報考人數有19487人\n"
     ]
    }
   ],
   "source": [
    "print(f\"本資料集總共報考人數有{sum([i for i in df['報名人數']])}人\")"
   ]
  },
  {
   "cell_type": "markdown",
   "metadata": {},
   "source": [
    "# 3. 本資料中考A B C卷的各有多少人\n",
    "(卷別)(到考人數)"
   ]
  },
  {
   "cell_type": "code",
   "execution_count": 19,
   "metadata": {},
   "outputs": [
    {
     "data": {
      "text/html": [
       "<div>\n",
       "<style scoped>\n",
       "    .dataframe tbody tr th:only-of-type {\n",
       "        vertical-align: middle;\n",
       "    }\n",
       "\n",
       "    .dataframe tbody tr th {\n",
       "        vertical-align: top;\n",
       "    }\n",
       "\n",
       "    .dataframe thead th {\n",
       "        text-align: right;\n",
       "    }\n",
       "</style>\n",
       "<table border=\"1\" class=\"dataframe\">\n",
       "  <thead>\n",
       "    <tr style=\"text-align: right;\">\n",
       "      <th></th>\n",
       "      <th>卷別</th>\n",
       "      <th>到考人數</th>\n",
       "    </tr>\n",
       "  </thead>\n",
       "  <tbody>\n",
       "    <tr>\n",
       "      <th>0</th>\n",
       "      <td>A卷</td>\n",
       "      <td>5828</td>\n",
       "    </tr>\n",
       "    <tr>\n",
       "      <th>1</th>\n",
       "      <td>B卷</td>\n",
       "      <td>7119</td>\n",
       "    </tr>\n",
       "    <tr>\n",
       "      <th>2</th>\n",
       "      <td>C卷</td>\n",
       "      <td>769</td>\n",
       "    </tr>\n",
       "  </tbody>\n",
       "</table>\n",
       "</div>"
      ],
      "text/plain": [
       "   卷別  到考人數\n",
       "0  A卷  5828\n",
       "1  B卷  7119\n",
       "2  C卷   769"
      ]
     },
     "execution_count": 19,
     "metadata": {},
     "output_type": "execute_result"
    }
   ],
   "source": [
    "df.groupby('卷別', sort=False)[\"到考人數\"].sum().reset_index(name ='到考人數')"
   ]
  },
  {
   "cell_type": "markdown",
   "metadata": {},
   "source": [
    "# 4. 非學生的類別中，實際到考人數共有多少人\n",
    "(到考人數)(職業別)"
   ]
  },
  {
   "cell_type": "code",
   "execution_count": 15,
   "metadata": {},
   "outputs": [
    {
     "name": "stdout",
     "output_type": "stream",
     "text": [
      "非學生的類別中，實際到考人數共有7918人\n"
     ]
    }
   ],
   "source": [
    "total = 0\n",
    "for index, row in df.iterrows():\n",
    "    if row['職業別'] != \"學生\":\n",
    "        total += row[\"到考人數\"]\n",
    "\n",
    "print(f\"非學生的類別中，實際到考人數共有{total}人\")"
   ]
  },
  {
   "cell_type": "markdown",
   "metadata": {},
   "source": [
    "# 5. 學生與非學生類別，通過人數比例為何\n",
    "(職業別)(通過人數)"
   ]
  },
  {
   "cell_type": "code",
   "execution_count": 17,
   "metadata": {},
   "outputs": [
    {
     "name": "stdout",
     "output_type": "stream",
     "text": [
      "學生與非學生類別，通過人數比例為 35.94%\n"
     ]
    }
   ],
   "source": [
    "total_student = 0\n",
    "total_others = 0\n",
    "for index, row in df.iterrows():\n",
    "    if row['職業別'] != \"學生\":\n",
    "        total_others += row[\"通過人數\"]\n",
    "    else:\n",
    "        total_student += row[\"通過人數\"]\n",
    "\n",
    "print(f\"學生與非學生類別，通過人數比例為 {str(float(total_student)/float(total_student+total_others)*100)[:5]}%\")"
   ]
  },
  {
   "cell_type": "markdown",
   "metadata": {},
   "source": [
    "# 6. A B C卷通過人數分別為何\n",
    "(卷別)(通過人數)"
   ]
  },
  {
   "cell_type": "code",
   "execution_count": 20,
   "metadata": {},
   "outputs": [
    {
     "data": {
      "text/html": [
       "<div>\n",
       "<style scoped>\n",
       "    .dataframe tbody tr th:only-of-type {\n",
       "        vertical-align: middle;\n",
       "    }\n",
       "\n",
       "    .dataframe tbody tr th {\n",
       "        vertical-align: top;\n",
       "    }\n",
       "\n",
       "    .dataframe thead th {\n",
       "        text-align: right;\n",
       "    }\n",
       "</style>\n",
       "<table border=\"1\" class=\"dataframe\">\n",
       "  <thead>\n",
       "    <tr style=\"text-align: right;\">\n",
       "      <th></th>\n",
       "      <th>卷別</th>\n",
       "      <th>通過人數</th>\n",
       "    </tr>\n",
       "  </thead>\n",
       "  <tbody>\n",
       "    <tr>\n",
       "      <th>0</th>\n",
       "      <td>A卷</td>\n",
       "      <td>3763</td>\n",
       "    </tr>\n",
       "    <tr>\n",
       "      <th>1</th>\n",
       "      <td>B卷</td>\n",
       "      <td>5076</td>\n",
       "    </tr>\n",
       "    <tr>\n",
       "      <th>2</th>\n",
       "      <td>C卷</td>\n",
       "      <td>216</td>\n",
       "    </tr>\n",
       "  </tbody>\n",
       "</table>\n",
       "</div>"
      ],
      "text/plain": [
       "   卷別  通過人數\n",
       "0  A卷  3763\n",
       "1  B卷  5076\n",
       "2  C卷   216"
      ]
     },
     "execution_count": 20,
     "metadata": {},
     "output_type": "execute_result"
    }
   ],
   "source": [
    "df.groupby('卷別', sort=False)[\"通過人數\"].sum().reset_index(name ='通過人數')"
   ]
  },
  {
   "cell_type": "markdown",
   "metadata": {},
   "source": [
    "# 7. A B C卷通過比率分別為何\n",
    "(卷別)(到考人數)(報考人數)"
   ]
  },
  {
   "cell_type": "code",
   "execution_count": 25,
   "metadata": {},
   "outputs": [
    {
     "data": {
      "text/html": [
       "<div>\n",
       "<style scoped>\n",
       "    .dataframe tbody tr th:only-of-type {\n",
       "        vertical-align: middle;\n",
       "    }\n",
       "\n",
       "    .dataframe tbody tr th {\n",
       "        vertical-align: top;\n",
       "    }\n",
       "\n",
       "    .dataframe thead th {\n",
       "        text-align: right;\n",
       "    }\n",
       "</style>\n",
       "<table border=\"1\" class=\"dataframe\">\n",
       "  <thead>\n",
       "    <tr style=\"text-align: right;\">\n",
       "      <th></th>\n",
       "      <th>卷別</th>\n",
       "      <th>通過比率</th>\n",
       "    </tr>\n",
       "  </thead>\n",
       "  <tbody>\n",
       "    <tr>\n",
       "      <th>0</th>\n",
       "      <td>A卷</td>\n",
       "      <td>64.57</td>\n",
       "    </tr>\n",
       "    <tr>\n",
       "      <th>1</th>\n",
       "      <td>B卷</td>\n",
       "      <td>71.30</td>\n",
       "    </tr>\n",
       "    <tr>\n",
       "      <th>2</th>\n",
       "      <td>C卷</td>\n",
       "      <td>28.09</td>\n",
       "    </tr>\n",
       "  </tbody>\n",
       "</table>\n",
       "</div>"
      ],
      "text/plain": [
       "   卷別   通過比率\n",
       "0  A卷  64.57\n",
       "1  B卷  71.30\n",
       "2  C卷  28.09"
      ]
     },
     "execution_count": 25,
     "metadata": {},
     "output_type": "execute_result"
    }
   ],
   "source": [
    "round(df.groupby('卷別', sort=False)[\"通過人數\"].sum()/df.groupby('卷別', sort=False)[\"到考人數\"].sum()*100, 2).reset_index(name ='通過比率')"
   ]
  },
  {
   "cell_type": "markdown",
   "metadata": {},
   "source": [
    "# 8. 學生類別中到考率為何\n",
    "(職業別)(到考人數)(報名人數)"
   ]
  },
  {
   "cell_type": "code",
   "execution_count": 28,
   "metadata": {},
   "outputs": [
    {
     "name": "stdout",
     "output_type": "stream",
     "text": [
      "學生類別中到考率為 71.21%\n"
     ]
    }
   ],
   "source": [
    "total = 0\n",
    "total_come = 0\n",
    "for index, row in df.iterrows():\n",
    "    if row['職業別'] == \"學生\":\n",
    "        total += row[\"報名人數\"]\n",
    "        total_come += row[\"到考人數\"]\n",
    "\n",
    "print(f\"學生類別中到考率為 {str(float(total_come)/float(total)*100)[:5]}%\")"
   ]
  },
  {
   "cell_type": "markdown",
   "metadata": {},
   "source": [
    "# 9. 教師跟學生通過人數比為何\n",
    "(職業別)(通過人數)"
   ]
  },
  {
   "cell_type": "code",
   "execution_count": 30,
   "metadata": {},
   "outputs": [
    {
     "name": "stdout",
     "output_type": "stream",
     "text": [
      "教師跟學生通過人數比為 53.56%\n"
     ]
    }
   ],
   "source": [
    "total_student = 0\n",
    "total_teacher = 0\n",
    "for index, row in df.iterrows():\n",
    "    if row['職業別'] == \"教\":\n",
    "        total_teacher += row[\"通過人數\"]\n",
    "    elif row['職業別'] == \"學生\":\n",
    "        total_student += row[\"通過人數\"]\n",
    "\n",
    "print(f\"教師跟學生通過人數比為 {str(float(total_teacher)/float(total_student+total_teacher)*100)[:5]}%\")"
   ]
  },
  {
   "cell_type": "markdown",
   "metadata": {},
   "source": [
    "# 10. 待業及其他跟學生通過人數比為何\n",
    "(職業別)(通過人數)"
   ]
  },
  {
   "cell_type": "code",
   "execution_count": 32,
   "metadata": {},
   "outputs": [
    {
     "name": "stdout",
     "output_type": "stream",
     "text": [
      "待業及其他跟學生通過人數比為 11.21%\n"
     ]
    }
   ],
   "source": [
    "total_student = 0\n",
    "total_others = 0\n",
    "for index, row in df.iterrows():\n",
    "    if row['職業別'] == \"待業及其他\":\n",
    "        total_others += row[\"通過人數\"]\n",
    "    elif row['職業別'] == \"學生\":\n",
    "        total_student += row[\"通過人數\"]\n",
    "\n",
    "print(f\"待業及其他跟學生通過人數比為 {str(float(total_others)/float(total_student+total_others)*100)[:5]}%\")"
   ]
  }
 ],
 "metadata": {
  "kernelspec": {
   "display_name": "Python 3",
   "language": "python",
   "name": "python3"
  },
  "language_info": {
   "codemirror_mode": {
    "name": "ipython",
    "version": 3
   },
   "file_extension": ".py",
   "mimetype": "text/x-python",
   "name": "python",
   "nbconvert_exporter": "python",
   "pygments_lexer": "ipython3",
   "version": "3.9.6"
  }
 },
 "nbformat": 4,
 "nbformat_minor": 2
}
